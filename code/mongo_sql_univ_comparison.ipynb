{
 "cells": [
  {
   "cell_type": "code",
   "execution_count": 1,
   "metadata": {},
   "outputs": [
    {
     "name": "stdout",
     "output_type": "stream",
     "text": [
      "In MongoDB but not in MySQL:\n",
      "\n",
      "In MySQL but not in MongoDB:\n"
     ]
    }
   ],
   "source": [
    "mongo_universities = [\n",
    "    'American University', 'Auburn University', 'Baylor University', 'Binghamton University--SUNY',\n",
    "    'Boston College', 'Boston University', 'Brandeis University', 'Brigham Young University--Provo',\n",
    "    'Brown University', 'California Institute of Technology', 'Carnegie Mellon University',\n",
    "    'Case Western Reserve University', 'Clemson University', 'College of William Mary',\n",
    "    'Colorado School of Mines', 'Columbia University', 'Cornell University', 'Dartmouth College',\n",
    "    'Duke University', 'Elon University', 'Emory University', 'Florida State University',\n",
    "    'Fordham University', 'George Washington University', 'Georgetown University',\n",
    "    'Georgia Institute of Technology', 'Gonzaga University', 'Harvard University', 'Howard University',\n",
    "    'Indiana University--Bloomington', 'Johns Hopkins University', 'Lehigh University',\n",
    "    'Marquette University', 'Massachusetts Institute of Technology', 'Michigan State University',\n",
    "    'New York University', 'North Carolina State University', 'Northeastern University',\n",
    "    'Northwestern University', 'Pennsylvania State University--University Park', 'Pepperdine University',\n",
    "    'Princeton University', 'Purdue University--West Lafayette', 'Rensselaer Polytechnic Institute',\n",
    "    'Rice University', 'Rutgers University--New Brunswick', 'Santa Clara University',\n",
    "    'Southern Methodist University', 'Stanford University', 'Stevens Institute of Technology',\n",
    "    'Stony Brook University--SUNY', 'Syracuse University', 'Texas A M University',\n",
    "    'Texas Christian University', 'Tufts University', 'Tulane University', 'University at Buffalo--SUNY',\n",
    "    'University of Arizona', 'University of California--Berkeley', 'University of California--Davis',\n",
    "    'University of California--Irvine', 'University of California--Los Angeles', 'University of California--Merced',\n",
    "    'University of California--Riverside', 'University of California--San Diego', 'University of California--Santa Barbara',\n",
    "    'University of California--Santa Cruz', 'University of Chicago', 'University of Denver', 'University of Florida',\n",
    "    'University of Georgia', 'University of Iowa', 'University of Maryland--College Park',\n",
    "    'University of Massachusetts--Amherst', 'University of Miami', 'University of Michigan',\n",
    "    'University of Minnesota--Twin Cities', 'University of North Carolina at Chapel Hill',\n",
    "    'University of Notre Dame', 'University of Pennsylvania', 'University of Pittsburgh--Pittsburgh Campus',\n",
    "    'University of Rochester', 'University of San Diego', 'University of Southern California',\n",
    "    'University of Texas at Austin', 'University of Virginia', 'University of Washington',\n",
    "    'University of Wisconsin--Madison', 'University of illinois at Urbana Champaign', 'Vanderbilt University',\n",
    "    'Villanova University', 'Virginia Tech', 'Wake Forest University', 'Washington University in St Louis',\n",
    "    'Worcester Polytechnic Institute', 'Yale University', 'Yeshiva University'\n",
    "]\n",
    "\n",
    "mysql_universities = [\n",
    "    'College of William Mary', 'University of Rochester', 'Emory University', 'University of California--Berkeley',\n",
    "    'Carnegie Mellon University', 'Harvard University', 'Northwestern University', 'Cornell University',\n",
    "    'Case Western Reserve University', 'Yale University', 'Johns Hopkins University', 'University of California--Los Angeles',\n",
    "    'University of illinois at Urbana Champaign', 'University of Florida', 'Wake Forest University',\n",
    "    'University of California--San Diego', 'University of California--Irvine', 'Boston University',\n",
    "    'New York University', 'Lehigh University', 'Georgetown University', 'University of Southern California',\n",
    "    'Tufts University', 'University of Notre Dame', 'University of Wisconsin--Madison', 'University of Chicago',\n",
    "    'Tulane University', 'Stanford University', 'University of Pennsylvania', 'Brandeis University', 'Northeastern University',\n",
    "    'Columbia University', 'Duke University', 'Massachusetts Institute of Technology', 'University of Virginia',\n",
    "    'Dartmouth College', 'Vanderbilt University', 'University of Texas at Austin', 'University of North Carolina at Chapel Hill',\n",
    "    'Rice University', 'Georgia Institute of Technology', 'Washington University in St Louis', 'Boston College',\n",
    "    'University of Michigan', 'California Institute of Technology', 'Brown University', 'University of California--Santa Barbara',\n",
    "    'University of Georgia', 'University of California--Davis', 'Princeton University', 'Auburn University',\n",
    "    'Fordham University', 'University of Maryland--College Park', 'Howard University', 'University at Buffalo--SUNY',\n",
    "    'Texas A M University', 'University of Massachusetts--Amherst', 'Stony Brook University--SUNY', 'Purdue University--West Lafayette',\n",
    "    'George Washington University', 'Indiana University--Bloomington', 'University of Iowa', 'University of California--Santa Cruz',\n",
    "    'Pepperdine University', 'American University', 'Villanova University', 'Florida State University', 'University of Minnesota--Twin Cities',\n",
    "    'University of San Diego', 'Virginia Tech', 'Santa Clara University', 'Brigham Young University--Provo',\n",
    "    'University of California--Merced', 'University of California--Riverside', 'Clemson University', 'Michigan State University',\n",
    "    'Worcester Polytechnic Institute', 'University of Denver', 'Pennsylvania State University--University Park', 'Colorado School of Mines',\n",
    "    'Binghamton University--SUNY', 'Texas Christian University', 'Gonzaga University', 'Elon University', 'Baylor University',\n",
    "    'Rutgers University--New Brunswick', 'Stevens Institute of Technology', 'Southern Methodist University',\n",
    "    'North Carolina State University', 'University of Pittsburgh--Pittsburgh Campus', 'Yeshiva University', 'Rensselaer Polytechnic Institute',\n",
    "    'University of Miami', 'University of Arizona', 'University of Washington', 'Syracuse University', 'Marquette University'\n",
    "]\n",
    "\n",
    "mongo_set = set(mongo_universities)\n",
    "mysql_set = set(mysql_universities)\n",
    "\n",
    "in_mongo_not_in_mysql = mongo_set - mysql_set\n",
    "in_mysql_not_in_mongo = mysql_set - mongo_set\n",
    "\n",
    "print(\"In MongoDB but not in MySQL:\")\n",
    "for university in in_mongo_not_in_mysql:\n",
    "    print(university)\n",
    "\n",
    "print(\"\\nIn MySQL but not in MongoDB:\")\n",
    "for university in in_mysql_not_in_mongo:\n",
    "    print(university)"
   ]
  },
  {
   "cell_type": "code",
   "execution_count": null,
   "metadata": {},
   "outputs": [],
   "source": []
  }
 ],
 "metadata": {
  "kernelspec": {
   "display_name": "Python 3",
   "language": "python",
   "name": "python3"
  },
  "language_info": {
   "codemirror_mode": {
    "name": "ipython",
    "version": 3
   },
   "file_extension": ".py",
   "mimetype": "text/x-python",
   "name": "python",
   "nbconvert_exporter": "python",
   "pygments_lexer": "ipython3",
   "version": "3.9.6"
  }
 },
 "nbformat": 4,
 "nbformat_minor": 2
}
